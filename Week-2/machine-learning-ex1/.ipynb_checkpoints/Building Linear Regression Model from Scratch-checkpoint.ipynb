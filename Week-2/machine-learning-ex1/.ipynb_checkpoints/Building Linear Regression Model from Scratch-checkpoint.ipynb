{
 "cells": [
  {
   "cell_type": "markdown",
   "metadata": {},
   "source": [
    "\n",
    "<h1>Implementing a Linear Regression Model from Scratch </h1>\n",
    "\n",
    "<h2>Problem: Predict Profits for Food Truck </h2>\n",
    "<p>This project focuses on implementing a linear regression with one variable to predict profits for a food truck. The CEO of the restaurant franchise is considering different cities for opening a new outlet. The chain already has trucks in various cities and we have the data for profits and populations from the cities.\n",
    "<br>\n",
    "We would like to use this data to help the select which city to expand to next.\n",
    "</p>"
   ]
  },
  {
   "cell_type": "code",
   "execution_count": 160,
   "metadata": {},
   "outputs": [],
   "source": [
    "import numpy as np\n",
    "import pandas as pd\n",
    "import matplotlib.pyplot as plt\n",
    "from numpy.linalg import inv\n",
    "from sklearn.linear_model import LinearRegression\n",
    "from sklearn.model_selection import train_test_split\n",
    "from sklearn.model_selection import KFold\n",
    "from sklearn.model_selection import cross_val_score\n",
    "from sklearn.metrics import mean_squared_error\n",
    "%matplotlib inline"
   ]
  },
  {
   "cell_type": "markdown",
   "metadata": {},
   "source": [
    "<h2> About the Data </h2>\n",
    "<p>The first column of the data is the population of a city and the second column is the profit of a food truck in that city. A negative value for profit indicates a loss. </p>"
   ]
  },
  {
   "cell_type": "code",
   "execution_count": 161,
   "metadata": {},
   "outputs": [
    {
     "data": {
      "text/html": [
       "<div>\n",
       "<table border=\"1\" class=\"dataframe\">\n",
       "  <thead>\n",
       "    <tr style=\"text-align: right;\">\n",
       "      <th></th>\n",
       "      <th>City Population</th>\n",
       "      <th>Profit</th>\n",
       "    </tr>\n",
       "  </thead>\n",
       "  <tbody>\n",
       "    <tr>\n",
       "      <th>0</th>\n",
       "      <td>6.1101</td>\n",
       "      <td>17.5920</td>\n",
       "    </tr>\n",
       "    <tr>\n",
       "      <th>1</th>\n",
       "      <td>5.5277</td>\n",
       "      <td>9.1302</td>\n",
       "    </tr>\n",
       "    <tr>\n",
       "      <th>2</th>\n",
       "      <td>8.5186</td>\n",
       "      <td>13.6620</td>\n",
       "    </tr>\n",
       "    <tr>\n",
       "      <th>3</th>\n",
       "      <td>7.0032</td>\n",
       "      <td>11.8540</td>\n",
       "    </tr>\n",
       "    <tr>\n",
       "      <th>4</th>\n",
       "      <td>5.8598</td>\n",
       "      <td>6.8233</td>\n",
       "    </tr>\n",
       "  </tbody>\n",
       "</table>\n",
       "</div>"
      ],
      "text/plain": [
       "   City Population   Profit\n",
       "0           6.1101  17.5920\n",
       "1           5.5277   9.1302\n",
       "2           8.5186  13.6620\n",
       "3           7.0032  11.8540\n",
       "4           5.8598   6.8233"
      ]
     },
     "execution_count": 161,
     "metadata": {},
     "output_type": "execute_result"
    }
   ],
   "source": [
    "data = pd.read_csv('data/food_truck_data.csv')\n",
    "data.head(5)"
   ]
  },
  {
   "cell_type": "markdown",
   "metadata": {},
   "source": [
    "<h2>Plotting the Data </h2>\n",
    "<p>For this dataset, I am using a scatter plot to visualize the data, since it has only two properties to plot (profit and population). </p>"
   ]
  },
  {
   "cell_type": "code",
   "execution_count": 162,
   "metadata": {},
   "outputs": [
    {
     "data": {
      "text/plain": [
       "<matplotlib.text.Text at 0x11277d128>"
      ]
     },
     "execution_count": 162,
     "metadata": {},
     "output_type": "execute_result"
    },
    {
     "data": {
      "image/png": "[encoded data removed]",
      "text/plain": [
       "<matplotlib.figure.Figure at 0x1128584e0>"
      ]
     },
     "metadata": {},
     "output_type": "display_data"
    }
   ],
   "source": [
    "plt.plot(data['City Population'],data['Profit'],\"x\")\n",
    "plt.xlabel(\"Population of City in 10,000s\")\n",
    "plt.ylabel(\"Profit in $10,000s\")\n",
    "plt.title(\"Population Size of City Vs Profit\")"
   ]
  },
  {
   "cell_type": "markdown",
   "metadata": {},
   "source": [
    "<h2>Implementing Linear Regression from Scratch</h2>\n",
    "\n",
    "<h3>Implementation Note</h3>\n",
    "\n",
    "<p>\n",
    "Each example is stored as a row in the the X matrix. To take into account the intercept term (θ0), add an additional first column to X and set it to all ones. This allows us to treat θ0 as simply another ‘feature’.</p>"
   ]
  },
  {
   "cell_type": "code",
   "execution_count": 163,
   "metadata": {},
   "outputs": [
    {
     "data": {
      "image/png": "[encoded data removed]",
      "text/plain": [
       "<matplotlib.figure.Figure at 0x11861a6a0>"
      ]
     },
     "metadata": {},
     "output_type": "display_data"
    }
   ],
   "source": [
    "class LinearRegressionClone():\n",
    "    \n",
    "    def __init__(self,a=0.01,iterations=1500,method=0):\n",
    "        self.X= np.array([])\n",
    "        self.theta = np.array([])\n",
    "        self.y =np.array([])\n",
    "        self.m = 0\n",
    "        self.iterations = iterations\n",
    "        self.alpha = a\n",
    "        self.method=method\n",
    "        self.J_history = []\n",
    "    \n",
    "    def computeCost(self):\n",
    "     return ((1/(2*self.m)) * sum(((np.dot(self.X,self.theta)) - self.y)**2)[0])\n",
    "\n",
    "    def gradientDescent(self):\n",
    "        self.J_history = []\n",
    "        for i in range(0,self.iterations):\n",
    "            self.theta = (self.theta - ((self.alpha/self.m) * ((np.dot(self.X,self.theta)) - self.y).T.dot(self.X)).T) \n",
    "            self.J_history.append(self.computeCost())\n",
    "        return self.theta,self.J_history\n",
    "    \n",
    "    #Normal Equation\n",
    "    def normalEquation(self):\n",
    "        self.theta =inv((self.X.T.dot(self.X))).dot(self.X.T).dot(self.y)\n",
    "     \n",
    "    def setup(self,X,y,method=0,alpha=0.01,iterations=1500):\n",
    "        self.X = X\n",
    "        self.X.shape = (self.X.shape[0],self.X.shape[1])\n",
    "        self.X= np.c_[np.ones(X.shape[0]),X]\n",
    "        self.theta= np.zeros([self.X.shape[1],1])\n",
    "        self.y = y\n",
    "        self.m = y.shape[0]\n",
    "        y.shape = (self.m,1)\n",
    "        self.iterations =iterations\n",
    "        self.alpha = alpha\n",
    "        self.method = method\n",
    "    \n",
    "    def fit(self,X,y,method=0,alpha=0.01,iterations=1500):\n",
    "        self.setup(X,y,method,alpha,iterations)\n",
    "        if (self.method == 0):\n",
    "            self.normalEquation()\n",
    "        else:\n",
    "            self.gradientDescent()\n",
    "                        \n",
    "    def predict(self,X):\n",
    "        X.shape = (X.shape[0],X.shape[1])\n",
    "        X = np.c_[np.ones(X.shape[0]),X]\n",
    "        return np.dot(X,self.theta)\n",
    "    \n",
    "    def plotCostByIteration(self):\n",
    "        #For Debugging Purpose\n",
    "        plt.plot([i for i in range(0,self.iterations)],self.J_history)\n",
    "        plt.title('Validate Gradient Descent Implementation')\n",
    "        plt.xlabel(\"Iteration\")\n",
    "        plt.ylabel(\"J (θ) ~ Cost\")\n",
    "        plt.show() \n",
    "        \n",
    "    def get_params(self, deep = False):\n",
    "        return {'a':self.alpha,'iterations':self.iterations,'method':self.method}\n",
    "    \n",
    "X = np.array(data['City Population']).T\n",
    "X.shape = (X.shape[0],1)\n",
    "y = np.array(data['Profit'])\n",
    "\n",
    "model = LinearRegressionClone()\n",
    "model.fit(X,y,method=1)\n",
    "model.plotCostByIteration()\n",
    "predictions = model.predict(X)\n",
    "\n",
    "\n"
   ]
  },
  {
   "cell_type": "code",
   "execution_count": 164,
   "metadata": {},
   "outputs": [
    {
     "data": {
      "text/plain": [
       "<matplotlib.text.Text at 0x1188abd68>"
      ]
     },
     "execution_count": 164,
     "metadata": {},
     "output_type": "execute_result"
    },
    {
     "data": {
      "image/png": "[encoded data removed]",
      "text/plain": [
       "<matplotlib.figure.Figure at 0x112467f28>"
      ]
     },
     "metadata": {},
     "output_type": "display_data"
    }
   ],
   "source": [
    "plt.plot(data['City Population'],data['Profit'],\"x\")\n",
    "plt.plot(data['City Population'], predictions ,color=\"r\")\n",
    "plt.xlabel(\"Population of City in 10,000s\")\n",
    "plt.ylabel(\"Profit in $10,000s\")\n",
    "plt.title(\"Population Size of City Vs Profit\")"
   ]
  },
  {
   "cell_type": "markdown",
   "metadata": {},
   "source": [
    "<h2>Comparing Linear Regression ~ Sklearn VS Self Implemented Version (Clone) </h2>"
   ]
  },
  {
   "cell_type": "code",
   "execution_count": 165,
   "metadata": {},
   "outputs": [
    {
     "name": "stdout",
     "output_type": "stream",
     "text": [
      "Model Name: LR (SKLEARN) Mean: -10.832449 SD: (10.483265)\n",
      "Model Name: LR (Clone) Mean: -10.832449 SD: (10.483265)\n"
     ]
    }
   ],
   "source": [
    "seed = 7\n",
    "validation_size = 0.2\n",
    "num_folds =10\n",
    "scoring = 'neg_mean_squared_error'\n",
    "X_train,X_validation,y_train,y_validation = train_test_split(X,y,test_size=validation_size,random_state=seed)\n",
    "\n",
    "models = []\n",
    "models.append(('LR (SKLEARN)',LinearRegression()))\n",
    "models.append(('LR (Clone)',LinearRegressionClone()))\n",
    "\n",
    "names = []\n",
    "results = []\n",
    "for name, model in models:\n",
    "    kfold = KFold(n_splits = num_folds,random_state=seed)\n",
    "    cv_results = cross_val_score(model,X_train,y_train,cv=kfold,scoring=scoring)\n",
    "    results.append(cv_results)\n",
    "    names.append(name)\n",
    "    msg = \"Model Name: %s Mean: %f SD: (%f)\"%(name,cv_results.mean(),cv_results.std())\n",
    "    print(msg)"
   ]
  },
  {
   "cell_type": "markdown",
   "metadata": {},
   "source": [
    "<p>The results from cross validation is as expected as the Mean Squared Error and Standard Deviation for both the models are the same. Therefore this implies that the 'LinearRegressionClone' model has been implemented correctly.</p>"
   ]
  },
  {
   "cell_type": "markdown",
   "metadata": {},
   "source": [
    "<h2>Finalized Model</h2>"
   ]
  },
  {
   "cell_type": "code",
   "execution_count": 166,
   "metadata": {},
   "outputs": [
    {
     "name": "stdout",
     "output_type": "stream",
     "text": [
      "4.30388338454\n"
     ]
    }
   ],
   "source": [
    "X = np.array(data['City Population']).T\n",
    "X.shape = (X.shape[0],1)\n",
    "y = np.array(data['Profit'])\n",
    "\n",
    "X_train,X_validation,y_train,y_validation = train_test_split(X,y,test_size=0.2,random_state=seed)\n",
    "final_model = LinearRegressionClone()\n",
    "final_model.fit(X_train,y_train)\n",
    "predictions = final_model.predict(X_validation)\n",
    "print(mean_squared_error(y_validation,predictions))\n"
   ]
  },
  {
   "cell_type": "markdown",
   "metadata": {},
   "source": [
    "<p>From the above results it can be seen that the Mean Squared error for the predictions on the validation set is as low as 4.30 </p>"
   ]
  }
 ],
 "metadata": {
  "kernelspec": {
   "display_name": "Python [default]",
   "language": "python",
   "name": "python3"
  },
  "language_info": {
   "codemirror_mode": {
    "name": "ipython",
    "version": 3
   },
   "file_extension": ".py",
   "mimetype": "text/x-python",
   "name": "python",
   "nbconvert_exporter": "python",
   "pygments_lexer": "ipython3",
   "version": "3.5.3"
  }
 },
 "nbformat": 4,
 "nbformat_minor": 2
}
